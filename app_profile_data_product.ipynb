{
 "cells": [
  {
   "cell_type": "markdown",
   "metadata": {},
   "source": [
    "# Profitable App Profiles for the App Store and Google Play Markets\n",
    "\n",
    "This is a __data product__ submitted to a developer agency specializing in _Android_ and _iOS_ mobile apps. The agency only built apps that were free to download and install, and their main source of revenue consisted of mostly in-app ads.\n",
    "\n",
    "This meant that the number of users determined the overall revenue for any given app — the more users who see and engage with the ads, the better.\n",
    "\n",
    "* My goal for this project was to analyze data to help their developers understand what _type_ of apps were more likely to attract more users.\n",
    "* For this data product, I left in my original code comments to better illustrate my thought process.\n",
    "---"
   ]
  },
  {
   "cell_type": "markdown",
   "metadata": {},
   "source": [
    "## Opening and Exploring the Data\n",
    "\n",
    "In order to avoid spending $ of pricey data, I found two data sets that seem suitable starting points for analysis.\n",
    "\n",
    "* A [dataset](https://www.kaggle.com/lava18/google-play-store-apps) containing data approximately 10,000 Android apps from Google Play; the data was collected in August 2018. You can download the data set directly from [this link](https://dq-content.s3.amazonaws.com/350/googleplaystore.csv).\n",
    "* A [dataset](https://www.kaggle.com/ramamet4/app-store-apple-data-set-10k-apps) containing data approximately 7,000 iOS apps from the App Store; the data was collected in July 2017. You can download the data set directly from [this link](https://dq-content.s3.amazonaws.com/350/AppleStore.csv)."
   ]
  },
  {
   "cell_type": "markdown",
   "metadata": {},
   "source": [
    "### Open and explore both datasets"
   ]
  },
  {
   "cell_type": "code",
   "execution_count": 2,
   "metadata": {},
   "outputs": [],
   "source": [
    "from csv import reader\n",
    "\n",
    "# Open the Android csv file -> read into a file object\n",
    "android_file = open('googleplaystore.csv')\n",
    "android_read_file = reader(android_file)\n",
    "\n",
    "# Open the iOS csv file -> read into a file object\n",
    "ios_file = open('AppleStore.csv')\n",
    "ios_read_file = reader(ios_file)\n",
    "\n",
    "# Turn the file object into a list to iterate over\n",
    "android_data = list(android_read_file)\n",
    "ios_data = list(ios_read_file)"
   ]
  },
  {
   "cell_type": "markdown",
   "metadata": {},
   "source": [
    "#### Helper function to quickly view app data"
   ]
  },
  {
   "cell_type": "code",
   "execution_count": 3,
   "metadata": {},
   "outputs": [],
   "source": [
    "def explore_data(dataset, start, end, rows_and_columns=False):\n",
    "    \n",
    "    data_set_slice = dataset[start:end]\n",
    "    print('Headers:', dataset[0], '\\n')\n",
    "\n",
    "    for row in data_set_slice:\n",
    "        print(row)\n",
    "        print('\\n') # adds a new (empty) line after each row\n",
    "\n",
    "    if rows_and_columns:\n",
    "        print('Number of rows:', len(dataset[1:]))\n",
    "        print('Number of columns:', len(dataset[0]))"
   ]
  },
  {
   "cell_type": "code",
   "execution_count": 4,
   "metadata": {
    "scrolled": true
   },
   "outputs": [
    {
     "name": "stdout",
     "output_type": "stream",
     "text": [
      "Headers: ['App', 'Category', 'Rating', 'Reviews', 'Size', 'Installs', 'Type', 'Price', 'Content Rating', 'Genres', 'Last Updated', 'Current Ver', 'Android Ver'] \n",
      "\n",
      "['Photo Editor & Candy Camera & Grid & ScrapBook', 'ART_AND_DESIGN', '4.1', '159', '19M', '10,000+', 'Free', '0', 'Everyone', 'Art & Design', 'January 7, 2018', '1.0.0', '4.0.3 and up']\n",
      "\n",
      "\n",
      "['Coloring book moana', 'ART_AND_DESIGN', '3.9', '967', '14M', '500,000+', 'Free', '0', 'Everyone', 'Art & Design;Pretend Play', 'January 15, 2018', '2.0.0', '4.0.3 and up']\n",
      "\n",
      "\n",
      "Number of rows: 10841\n",
      "Number of columns: 13\n"
     ]
    }
   ],
   "source": [
    "# Explore first 2 rows of Android data set and\n",
    "# get baseline of columns and rows\n",
    "explore_data(android_data, 1, 3, True)"
   ]
  },
  {
   "cell_type": "code",
   "execution_count": 5,
   "metadata": {
    "scrolled": true
   },
   "outputs": [
    {
     "name": "stdout",
     "output_type": "stream",
     "text": [
      "Headers: ['id', 'track_name', 'size_bytes', 'currency', 'price', 'rating_count_tot', 'rating_count_ver', 'user_rating', 'user_rating_ver', 'ver', 'cont_rating', 'prime_genre', 'sup_devices.num', 'ipadSc_urls.num', 'lang.num', 'vpp_lic'] \n",
      "\n",
      "['284882215', 'Facebook', '389879808', 'USD', '0.0', '2974676', '212', '3.5', '3.5', '95.0', '4+', 'Social Networking', '37', '1', '29', '1']\n",
      "\n",
      "\n",
      "['389801252', 'Instagram', '113954816', 'USD', '0.0', '2161558', '1289', '4.5', '4.0', '10.23', '12+', 'Photo & Video', '37', '0', '29', '1']\n",
      "\n",
      "\n",
      "Number of rows: 7197\n",
      "Number of columns: 16\n"
     ]
    }
   ],
   "source": [
    "explore_data(ios_data, 1, 3, True)"
   ]
  },
  {
   "cell_type": "markdown",
   "metadata": {},
   "source": [
    "### Clean data\n",
    "\n",
    "Best practice when getting acquainted with a new data set is to clean it up a bit, check for duplicates, missing data, anything that can help secure a solid data foundatoin for better analysis.\n",
    "\n",
    "When I filtered for _most commented_ at the data source, turns out there's some [bad data that was discovered by others](https://www.kaggle.com/datasets/lava18/google-play-store-apps/discussion?sort=votes).\n",
    "\n",
    "To fix this, we can compare all rows in the data and make sure they have the same length as that of the header row. If it doesn't, that means it's an entry with bad data. Safe to remove to help sanitize the data."
   ]
  },
  {
   "cell_type": "code",
   "execution_count": 6,
   "metadata": {},
   "outputs": [
    {
     "name": "stdout",
     "output_type": "stream",
     "text": [
      "index of bad entry: 10472 \n",
      "\n",
      "\n",
      "Bad Row: ['Life Made WI-Fi Touchscreen Photo Frame', '1.9', '19', '3.0M', '1,000+', 'Free', '0', 'Everyone', '', 'February 11, 2018', '1.0.19', '4.0 and up'] \n",
      "\n",
      "\n",
      "Data after deletion:\n",
      " ['Xposed Wi-Fi-Pwd', 'PERSONALIZATION', '3.5', '1042', '404k', '100,000+', 'Free', '0', 'Everyone', 'Personalization', 'August 5, 2014', '3.0.0', '4.0.3 and up']\n"
     ]
    }
   ],
   "source": [
    "found = None\n",
    "\n",
    "for row in android_data[1:]:\n",
    "    header_length = len(android_data[0])\n",
    "        \n",
    "    if len(row) != header_length:\n",
    "        print('index of bad entry:', android_data[1:].index(row), '\\n\\n')\n",
    "        print('Bad Row:', row, '\\n\\n')\n",
    "        found = row\n",
    "\n",
    "android_data.remove(found)\n",
    "print('Data after deletion:\\n', android_data[10472])"
   ]
  },
  {
   "cell_type": "markdown",
   "metadata": {},
   "source": [
    "### Duplicate entries"
   ]
  },
  {
   "cell_type": "markdown",
   "metadata": {},
   "source": [
    "Good practice is to always check for dupes. The data community also [flagged](https://www.kaggle.com/datasets/lava18/google-play-store-apps/discussion/67894?sort=votes) duplicates.\n",
    "\n",
    "- After looping through the data, turns out there are quite a few duplicates: 1,181\n",
    "\n",
    "These entries would have really skewed any meanginful analysis."
   ]
  },
  {
   "cell_type": "code",
   "execution_count": 7,
   "metadata": {
    "scrolled": false
   },
   "outputs": [
    {
     "name": "stdout",
     "output_type": "stream",
     "text": [
      "Random sampling of duplicate names: ['Meet4U - Chat, Love, Singles!', '95Live -SG#1 Live Streaming App', 'Just She - Top Lesbian Dating', 'Hily: Dating, Chat, Match, Meet & Hook up', 'O-Star', 'Random Video Chat'] \n",
      "\n",
      "\n",
      "Total num of duplicates: 1181 \n",
      "\n",
      "\n"
     ]
    }
   ],
   "source": [
    "duplicate_apps = []\n",
    "unique_apps = []\n",
    "\n",
    "for app in android_data[1:]:\n",
    "    name = app[0]\n",
    "    \n",
    "    if name in unique_apps:\n",
    "        duplicate_apps.append(name)\n",
    "    else:\n",
    "        unique_apps.append(name)\n",
    "\n",
    "print('Random sampling of duplicate names:', duplicate_apps[100:106], '\\n\\n')\n",
    "print('Total num of duplicates:', len(duplicate_apps), '\\n\\n')"
   ]
  },
  {
   "cell_type": "markdown",
   "metadata": {},
   "source": [
    "#### Only keep the app entry that has the highest customer review count"
   ]
  },
  {
   "cell_type": "code",
   "execution_count": 8,
   "metadata": {
    "scrolled": true
   },
   "outputs": [
    {
     "name": "stdout",
     "output_type": "stream",
     "text": [
      "9659\n",
      "9659\n"
     ]
    }
   ],
   "source": [
    "reviews_max = dict()\n",
    "\n",
    "for app in android_data[1:]:\n",
    "    name = app[0]\n",
    "    reviews = float(app[3])\n",
    "    \n",
    "    if name in reviews_max and reviews_max[name] < reviews:\n",
    "        reviews_max[name] = reviews\n",
    "    \n",
    "    if name not in reviews_max:\n",
    "        reviews_max[name] = reviews\n",
    "\n",
    "# print('Length of original Android data', len(android_data[1:]))\n",
    "# ==> Length of Android 10840\n",
    "\n",
    "# If this worked, the number of entries in our 'reviews_max' dictionary\n",
    "# should be (10,840 - 1,181) == 9,659\n",
    "print(len(reviews_max)) # => 9,659\n",
    "\n",
    "\n",
    "# Using the dictionary we built, we can now selectively remove\n",
    "# the duplicates!\n",
    "\n",
    "android_clean = []\n",
    "already_added = []\n",
    "\n",
    "for app in android_data[1:]:\n",
    "    name = app[0]\n",
    "    reviews = float(app[3])\n",
    "    \n",
    "    if reviews_max[name] == reviews and name not in already_added:\n",
    "        android_clean.append(app)\n",
    "        already_added.append(name)\n",
    "\n",
    "print(len(android_clean))"
   ]
  },
  {
   "cell_type": "markdown",
   "metadata": {},
   "source": [
    "#### Removing Non-English Apps\n",
    "\n",
    "Since your agency only makes apps for an english-speaking audience, only english apps were used for this data product."
   ]
  },
  {
   "cell_type": "code",
   "execution_count": 9,
   "metadata": {
    "scrolled": true
   },
   "outputs": [
    {
     "name": "stdout",
     "output_type": "stream",
     "text": [
      "original android dataset: 9658\n",
      "android english apps: 9658\n",
      "android non-english apps: 0 \n",
      "\n",
      "original iOS dataset: 7197\n",
      "iOS english apps: 6096\n",
      "iOS non-english apps: 1101\n"
     ]
    }
   ],
   "source": [
    "# print(len(ios_data))       >>> 7198\n",
    "# print(len(android_clean))  >>> 9659\n",
    "\n",
    "# Edge cases to use as a filter comparison\n",
    "# \"-\" symbol = 8211\n",
    "#  Letter: ™ \n",
    "#  ascii: 8482 \n",
    "# ® > ascii: 174 \n",
    "\n",
    "\n",
    "\n",
    "# HELPER FUNCTIONS \n",
    "\n",
    "def check_for_good_symbol(letter):\n",
    "    approved_symbs = [8211, 8212, 8482, 174, 65293, 233, 9412,\n",
    "              8480, 1057, 65281, 8252, 8226, 8217, 967, 1088]\n",
    "\n",
    "    return ord(letter) in approved_symbs\n",
    "\n",
    "def not_english(app_name):\n",
    "    for letter in app_name:\n",
    "        if check_for_good_symbol(letter):\n",
    "            continue\n",
    "        if ord(letter) > 127:\n",
    "            return True\n",
    "    return False\n",
    "\n",
    "\n",
    "# Function that takes a dataset and\n",
    "# returns two datasets, English and NonEnglish\n",
    "\n",
    "def sift_for_english(dataset, appNameIndex=1):\n",
    "    # NB: find the index of the app name in dataset and\n",
    "    # use that for \"appNameIndex\" - default to 2nd row in dataset\n",
    "    english_apps = []\n",
    "    non_english_apps = []\n",
    "    \n",
    "    for app in dataset[1:]:\n",
    "        name = app[appNameIndex]\n",
    "    \n",
    "        if not_english(name):\n",
    "            non_english_apps.append(app)\n",
    "            continue\n",
    "        else:\n",
    "            english_apps.append(app)\n",
    "        \n",
    "    return (english_apps, non_english_apps)\n",
    "\n",
    "    \n",
    "ios_english, ios_non_english = sift_for_english(ios_data, appNameIndex=1)\n",
    "\n",
    "android_english, android_non_english = sift_for_english(android_clean, 1)\n",
    "\n",
    "print('original android dataset:', len(android_clean[1:]))\n",
    "print('android english apps:', len(android_english))\n",
    "print('android non-english apps:', len(android_non_english), '\\n')\n",
    "\n",
    "print('original iOS dataset:', len(ios_data[1:]))\n",
    "print('iOS english apps:', len(ios_english))\n",
    "print('iOS non-english apps:', len(ios_non_english))"
   ]
  },
  {
   "cell_type": "markdown",
   "metadata": {},
   "source": [
    "#### Remove apps that cost money\n",
    "\n",
    "Your agency's app portfolio shows most of your products are free-to-download.\n",
    "\n",
    "At this point the datasets are in a good state to begin analysis"
   ]
  },
  {
   "cell_type": "code",
   "execution_count": 10,
   "metadata": {
    "scrolled": true
   },
   "outputs": [
    {
     "name": "stdout",
     "output_type": "stream",
     "text": [
      "Original android dataset: 9658\n",
      "Free android apps: 8904 \n",
      "\n",
      "Original iOS dataset: 6096\n",
      "Free iOS apps: 3165\n"
     ]
    }
   ],
   "source": [
    "\"\"\"\n",
    "    Loop through each dataset to isolate the free apps in separate lists.\n",
    "        Make sure you identify the columns describing the app price correctly.\n",
    "        Prices come up as strings ('0', $0.99, $2.99, etc.), so make sure you're not checking an integer or a float in your conditional statements.\n",
    "\n",
    "    After you isolate the free apps, check the length of each dataset to see how many apps you have remaining.\n",
    "\n",
    "\"\"\"\n",
    "\n",
    "# android english apps: 9658 > android_english\n",
    "# iOS english apps: 6096 > ios_english\n",
    "\n",
    "ios_free = []\n",
    "android_free = []\n",
    "\n",
    "for app in ios_english:\n",
    "    price = float(app[4])\n",
    "    \n",
    "    if price == 0:\n",
    "        ios_free.append(app)\n",
    "    \n",
    "for app in android_english:\n",
    "    price = app[7]\n",
    "    \n",
    "    if len(price) == 1:\n",
    "        android_free.append(app)\n",
    "        \n",
    "print('Original android dataset:', len(android_english))\n",
    "print('Free android apps:', len(android_free), '\\n')\n",
    "\n",
    "print('Original iOS dataset:', len(ios_english))\n",
    "print('Free iOS apps:', len(ios_free))\n"
   ]
  },
  {
   "cell_type": "markdown",
   "metadata": {},
   "source": [
    "# Analysis\n",
    "\n",
    "#### Sanitized data sets: `ios_free`, `android_free` (Lists)\n",
    "\n",
    "**Primary objective**: Provide analytical guidance and data-driven suggestions to help you and your team decide how your agency selects new app products to build.\n",
    "\n",
    "*Foundations*:\n",
    "\n",
    "We want to know what app genres were downloaded the most, and which genres generated the most user engagement using reviews and ratings.\n",
    "\n",
    "### Data Rows"
   ]
  },
  {
   "cell_type": "code",
   "execution_count": 11,
   "metadata": {
    "scrolled": true
   },
   "outputs": [
    {
     "name": "stdout",
     "output_type": "stream",
     "text": [
      "Android data columns:\n",
      "\n",
      " ['App', 'Category', 'Rating', 'Reviews', 'Size', 'Installs', 'Type', 'Price', 'Content Rating', 'Genres', 'Last Updated', 'Current Ver', 'Android Ver'] \n",
      "\n",
      "iOS data columns:\n",
      "\n",
      " ['id', 'track_name', 'size_bytes', 'currency', 'price', 'rating_count_tot', 'rating_count_ver', 'user_rating', 'user_rating_ver', 'ver', 'cont_rating', 'prime_genre', 'sup_devices.num', 'ipadSc_urls.num', 'lang.num', 'vpp_lic']\n"
     ]
    }
   ],
   "source": [
    "# The very first entry of the data lists are the columns\n",
    "print('Android data columns:\\n\\n', android_data[0], '\\n')\n",
    "print('iOS data columns:\\n\\n', ios_data[0])"
   ]
  },
  {
   "cell_type": "markdown",
   "metadata": {},
   "source": [
    "### Right away, a few columns stand out.\n",
    "\n",
    "Android: Category, Genres, Installs\n",
    "iOS: rating_count_tot, prime_genre, user_rating\n",
    "\n",
    "__Android columns__\n",
    "\n",
    "* App\n",
    "* Category X\n",
    "* Rating\n",
    "* Installs X\n",
    "* Type\n",
    "* Price\n",
    "* Genres X\n",
    "\n",
    "__iOS columns__\n",
    "* track_name \n",
    "* price \n",
    "* rating_count_tot X | User Rating counts (for all version)\n",
    "* user_rating X \n",
    "* prime_genre > X"
   ]
  },
  {
   "cell_type": "markdown",
   "metadata": {},
   "source": []
  },
  {
   "cell_type": "code",
   "execution_count": 12,
   "metadata": {
    "scrolled": true
   },
   "outputs": [
    {
     "name": "stdout",
     "output_type": "stream",
     "text": [
      "Top iOS apps by total ratings:\n",
      "[(104, 'Social Networking'), (159, 'Photo & Video'), (1849, 'Games'), (65, 'Music'), (17, 'Reference'), (63, 'Health & Fitness'), (28, 'Weather'), (76, 'Utilities'), (37, 'Travel'), (81, 'Shopping')]\n"
     ]
    }
   ],
   "source": [
    "# CLEANED DATASETS\n",
    "# ios_free\n",
    "# android_free\n",
    "\n",
    "# android > category[1] > installs[5] > genres[9]\n",
    "# ios > prime_genre[11] > rating_count_tot[5]\n",
    "\n",
    "\n",
    "android_histo = {}\n",
    "ios_histo = {}\n",
    "\n",
    "# iOS histogram\n",
    "\n",
    "for app in ios_free:\n",
    "    genre = app[11]\n",
    "    all_time_ratings = app[5]\n",
    "    \n",
    "    if genre in ios_histo:\n",
    "        ios_histo[genre] += 1\n",
    "    else:\n",
    "        ios_histo[genre] = 1\n",
    "\n",
    "sorted_ios_apps = []\n",
    "\n",
    "for k, v in ios_histo.items():\n",
    "    sorted_ios_apps.append((v, k))\n",
    "\n",
    "# Android histogram\n",
    "\n",
    "for app in android_free:\n",
    "    category = app[1]\n",
    "    genre = app[9]\n",
    "    \n",
    "    if genre in android_histo:\n",
    "        android_histo[genre] += 1\n",
    "    else:\n",
    "        android_histo[genre] = 1\n",
    "\n",
    "sorted_android_apps = []\n",
    "\n",
    "for k, v in android_histo.items():\n",
    "    sorted_android_apps.append((v, k))\n",
    "    \n",
    "print('Top iOS apps by total ratings:')\n",
    "print(sorted_ios_apps[:10])\n",
    "# print('Top Android by app genre:')\n",
    "# print(sorted_android_apps)"
   ]
  },
  {
   "cell_type": "markdown",
   "metadata": {},
   "source": [
    "## iOS & Android Histograms\n",
    "\n",
    "iOS Top Genres\n",
    "\n",
    "- 1849 > Games\n",
    "- 251 > Entertainment\n",
    "- 159 > Photo & Video\n",
    "- 117 > Education\n",
    "- 104 > Social Networking\n",
    "- 81 > Shopping\n",
    "- 76 > Utilities\n",
    "- 68 > Sports\n",
    "- 65 > Music\n",
    "- 63 > Health & Fitness\n",
    "- 54 > Productivity\n",
    "- 49 > Lifestyle\n",
    "- 43 > News\n",
    "- 35 > Finance\n",
    "- 28 > Weather\n",
    "- 26 > Food & Drink\n",
    "- 17 > Reference\n",
    "- 15 > Business\n",
    "- 12 > Book\n",
    "- 6 > Medical\n",
    "- 4 > Catalogs\n",
    " \n",
    "Android Top Genres\n",
    "\n",
    "- 750 > Tools\n",
    "- 542 > Entertainment\n",
    "- 480 > Education\n",
    "- 408 > Business\n",
    "- 349 > Lifestyle\n",
    "- 346 > Productivity\n",
    "- 328 > Finance\n",
    "- 313 > Medical\n",
    "- 307 > Sports\n",
    "- 295 > Personalization\n",
    "- 288 > Communication\n",
    "- 275 > Action\n",
    "- 273 > Health & Fitness\n",
    "- 262 > Photography\n",
    "- 252 > News & Magazines\n",
    "- 236 > Social\n",
    "- 206 > Travel & Local\n",
    "- 200 > Shopping\n",
    "- 194 > Books & Reference\n",
    "- 184 > Simulation\n",
    "- 165 > Dating\n",
    "- 164 > Arcade\n",
    "- 158 > Video Players & Editors\n",
    "- 156 > Casual\n",
    "- 126 > Maps & Navigation\n",
    "- 110 > Food & Drink\n",
    "- 100 > Puzzle\n",
    "- 88 > Racing\n",
    "- 83 > Libraries & Demo\n",
    "- 82 > Auto & Vehicles\n",
    "- 73 > House & Home\n",
    "- 71 > Weather\n",
    "- 63 > Events\n",
    "- 61 > Adventure\n",
    "- 55 > Comics\n",
    "- 53 > Art & Design\n",
    "- 44 > Parenting\n",
    "- 40 > Card\n",
    "- 38 > Casino\n",
    "- 35 > Educational;Education\n",
    "- 34 > Board\n",
    "- 33 > Educational\n",
    "- 31 > Education;Education\n",
    "- 23 > Word\n",
    "- 21 > Casual;Pretend Play\n",
    "- 18 > Music\n",
    "- 15 > Entertainment;Music & Video\n",
    "- 12 > Casual;Action & Adventure\n",
    "- 11 > Arcade;Action & Adventure\n",
    "- 9 > Action;Action & Adventure\n",
    "- 8 > Educational;Pretend Play\n",
    "- 7 > Board;Brain Games\n",
    "- 6 > Art & Design;Creativity\n",
    "- 5 > Education;Pretend Play\n",
    "- 4 > Education;Creativity\n",
    "- 3 > Adventure;Action & Adventure\n",
    "- 2 > Board;Action & Adventure\n",
    "- 1 > Adventure;Education"
   ]
  },
  {
   "cell_type": "markdown",
   "metadata": {},
   "source": [
    "### Average number of installs for each genre\n",
    "\n",
    "\n",
    "### Identifying the genres with the highest user engagement.\n",
    "\n",
    "To uncover the most popular app genres in terms of user base, one approach is to compute the average number of installs for each genre."
   ]
  },
  {
   "cell_type": "code",
   "execution_count": 13,
   "metadata": {},
   "outputs": [
    {
     "name": "stdout",
     "output_type": "stream",
     "text": [
      "iOS top genres: {1849: 'Games', 251: 'Entertainment', 159: 'Photo & Video', 117: 'Education', 104: 'Social Networking', 81: 'Shopping', 76: 'Utilities', 68: 'Sports', 65: 'Music', 63: 'Health & Fitness', 54: 'Productivity', 49: 'Lifestyle', 43: 'News', 37: 'Travel', 35: 'Finance', 28: 'Weather', 26: 'Food & Drink', 17: 'Reference', 15: 'Business', 12: 'Book', 6: 'Medical', 4: 'Catalogs'} \n",
      "\n",
      " genre count 22 \n",
      "\n",
      "android top genres: {750: 'Tools', 542: 'Entertainment', 480: 'Education', 408: 'Business', 349: 'Lifestyle', 346: 'Productivity', 328: 'Finance', 313: 'Medical', 307: 'Sports', 295: 'Personalization', 288: 'Communication', 275: 'Action', 273: 'Health & Fitness', 262: 'Photography', 252: 'News & Magazines', 236: 'Social', 206: 'Travel & Local', 200: 'Shopping', 194: 'Books & Reference', 184: 'Simulation', 165: 'Dating', 164: 'Arcade', 158: 'Video Players & Editors', 156: 'Casual', 126: 'Maps & Navigation', 110: 'Food & Drink', 100: 'Puzzle', 88: 'Racing', 83: 'Libraries & Demo', 82: 'Auto & Vehicles', 73: 'House & Home', 71: 'Weather', 63: 'Events', 61: 'Adventure', 55: 'Comics', 53: 'Art & Design', 44: 'Parenting', 40: 'Card', 38: 'Casino', 35: 'Educational;Education', 34: 'Board', 33: 'Educational', 31: 'Education;Education', 23: 'Word', 21: 'Casual;Pretend Play', 18: 'Music', 15: 'Entertainment;Music & Video', 12: 'Casual;Action & Adventure', 11: 'Arcade;Action & Adventure', 9: 'Action;Action & Adventure', 8: 'Educational;Pretend Play', 7: 'Board;Brain Games', 6: 'Art & Design;Creativity', 5: 'Education;Pretend Play', 4: 'Education;Creativity', 3: 'Adventure;Action & Adventure', 2: 'Board;Action & Adventure', 1: 'Adventure;Education'} \n",
      "\n",
      " genre count 58\n"
     ]
    }
   ],
   "source": [
    "\"\"\"\n",
    "Android data columns:\n",
    "\n",
    " ['App', 'Category', 'Rating', 'Reviews', 'Size', 'Installs', 'Type', 'Price', 'Content Rating',\n",
    "  'Genres', 'Last Updated', 'Current Ver', 'Android Ver'] \n",
    "\n",
    "iOS data columns:\n",
    "\n",
    " ['id', 'track_name', 'size_bytes', 'currency', 'price', 'rating_count_tot', 'rating_count_ver', 'user_rating',\n",
    "  'user_rating_ver', 'ver', 'cont_rating', 'prime_genre', 'sup_devices.num', 'ipadSc_urls.num', 'lang.num', 'vpp_lic']\n",
    "\n",
    "\"\"\"\n",
    "\n",
    "# CLEANED DATASETS\n",
    "# ios_free\n",
    "# android_free\n",
    "\n",
    "# HISTOGRAMS\n",
    "ios_top_genres = dict(reversed(sorted(sorted_ios_apps)))\n",
    "android_top_genres = dict(reversed(sorted(sorted_android_apps)))\n",
    "\n",
    "print('iOS top genres:', ios_top_genres, '\\n\\n', 'genre count', len(ios_top_genres), '\\n')\n",
    "print('android top genres:', android_top_genres, '\\n\\n', 'genre count', len(android_top_genres))"
   ]
  },
  {
   "cell_type": "code",
   "execution_count": 57,
   "metadata": {
    "scrolled": true
   },
   "outputs": [],
   "source": [
    "basket = {}\n",
    "\n",
    "for app in ios_free:\n",
    "    genre = app[11]\n",
    "    rating = float(app[5])\n",
    "#     print(genre)\n",
    "#     print(rating, '\\n')\n",
    "    \n",
    "    if genre not in basket:\n",
    "        basket[genre] = rating\n",
    "    else:\n",
    "        basket[genre] += rating\n",
    "    \n",
    "    \n",
    "\"\"\"\n",
    "\n",
    "basket\n",
    "{'Games': 10594110.0, 'Music': 560667.0, 'Entertainment': 894076.0, 'Sports': 927512.0,\n",
    "'Social Networking': 1055267.0, 'Photo & Video': 524867.0, 'Shopping': 661336.0, 'Food & Drink': 258624.0,\n",
    "'Book': 252076.0, 'Finance': 466210.0, 'Travel': 369434.0, 'Weather': 691603.0, 'Reference': 200047.0,\n",
    "'Education': 162701.0, 'Productivity': 297027.0, 'Navigation': 154911.0, 'Lifestyle': 143040.0,\n",
    "'Health & Fitness': 136833.0, 'News': 132703.0, 'Utilities': 257398.0}\n",
    "\n",
    "[(4, 'Catalogs'), (6, 'Medical'), (6, 'Navigation'), (12, 'Book'), (15, 'Business'),\n",
    "(17, 'Reference'), (26, 'Food & Drink'), (28, 'Weather'), (35, 'Finance'),\n",
    "(37, 'Travel'), (43, 'News'), (49, 'Lifestyle'), (54, 'Productivity'),\n",
    "(63, 'Health & Fitness'), (65, 'Music'), (68, 'Sports'), (76, 'Utilities'), (81, 'Shopping'),\n",
    "(104, 'Social Networking'), (117, 'Education'), (159, 'Photo & Video'), (251, 'Entertainment'),\n",
    "(1849, 'Games')]\n",
    "\n",
    "\n",
    "\"\"\"\n",
    "\n",
    "# Helper Function - takes a dictionary, swaps the key value pairs for easy sorting/ranking\n",
    "# returns List\n",
    "def swap(dict):\n",
    "    final = []\n",
    "    \n",
    "    for k, v in dict.items():\n",
    "        final.append((v, k))\n",
    "    \n",
    "    return final\n",
    "\n",
    "total_app_genres = {}\n",
    "\n",
    "for k, v in sorted(sorted_ios_apps):\n",
    "    total_app_genres[v] = k\n",
    "\n",
    "# print(total_app_genres)\n",
    "\n",
    "avg_ratings_per_genre = {}\n",
    "\n",
    "for app_name in basket:\n",
    "    if app_name in total_app_genres:\n",
    "        avg_ratings_per_genre[app_name] = round(basket[app_name] / total_app_genres[app_name])\n",
    "\n",
    "ios_avg = swap(avg_ratings_per_genre)\n",
    "\n",
    "# for k, v in list(reversed(sorted(ios_avg))):\n",
    "#     print('-', v, ':', k)"
   ]
  },
  {
   "cell_type": "markdown",
   "metadata": {},
   "source": [
    "### Results\n",
    "\n",
    "- Navigation : 86090\n",
    "- Reference : 79350\n",
    "- Social Networking : 72917\n",
    "- Music : 58205\n",
    "- Weather : 52280\n",
    "- Book : 46385\n",
    "- Food & Drink : 33334\n",
    "- Finance : 32367\n",
    "- Travel : 30524\n",
    "- Photo & Video : 28619\n",
    "- Shopping : 27899\n",
    "- Health & Fitness : 24038\n",
    "- Sports : 23102\n",
    "- Games : 22734\n",
    "- Productivity : 21799\n",
    "- News : 21248\n",
    "- Utilities : 19423\n",
    "- Lifestyle : 17155\n",
    "- Entertainment : 14195\n",
    "- Business : 6840\n",
    "- Education : 6011\n",
    "- Catalogs : 4004\n",
    "- Medical : 612"
   ]
  },
  {
   "cell_type": "markdown",
   "metadata": {},
   "source": [
    "# Average Installs per Genre - Android "
   ]
  },
  {
   "cell_type": "code",
   "execution_count": 42,
   "metadata": {},
   "outputs": [],
   "source": [
    "\"\"\"\n",
    "Android data columns:\n",
    "\n",
    " ['App', 'Category', 'Rating', 'Reviews', 'Size', 'Installs', 'Type', 'Price', 'Content Rating',\n",
    "  'Genres', 'Last Updated', 'Current Ver', 'Android Ver']\n",
    "  \n",
    "\"\"\"\n",
    "\n",
    "# HISTOGRAMS\n",
    "# ios_histo\n",
    "# android_histo\n",
    "\n",
    "total_installs_by_genre = {}\n",
    "\n",
    "for app in android_free:\n",
    "    genre = app[9]\n",
    "    installs = app[5].replace('+', '')\n",
    "    installs = int(installs.replace(',', ''))\n",
    "    \n",
    "    if genre in total_installs_by_genre:\n",
    "        total_installs_by_genre[genre] += installs\n",
    "    else:\n",
    "        total_installs_by_genre[genre] = installs\n",
    "\n",
    "# total_installs_by_genre\n",
    "# android_histo\n",
    "\n",
    "avg_installs = {}\n",
    "\n",
    "for genre in android_histo.keys():\n",
    "    avg_installs[genre] = round(total_installs_by_genre[genre] / android_histo[genre])\n",
    "\n",
    "android_install_ranks = swap(avg_installs)\n",
    "\n",
    "# Sort the genres by install\n",
    "# for v, k in reversed(sorted(android_install_ranks)):\n",
    "#     print('-', k, v)"
   ]
  },
  {
   "cell_type": "markdown",
   "metadata": {},
   "source": [
    "### Results\n",
    "\n",
    "- Communication 38322626\n",
    "- Adventure;Action & Adventure 35333333\n",
    "- Video Players & Editors 24790074\n",
    "- Social 23253652\n",
    "- Arcade 22888365\n",
    "- Casual 19569222\n",
    "- Puzzle;Action & Adventure 18366667\n",
    "- Photography 17772019\n",
    "- Educational;Action & Adventure 17016667\n",
    "- Productivity 16738958\n",
    "- Racing 15910646\n",
    "- Travel & Local 14051476\n",
    "- Casual;Action & Adventure 12916667\n",
    "- Action 12603589\n",
    "- Strategy 11124294\n",
    "- Tools 10788059"
   ]
  },
  {
   "cell_type": "markdown",
   "metadata": {},
   "source": [
    "## Conclusions & Action Items\n",
    "\n",
    "Based on the data of both the total installs (Android) and total reviews (iOS), I recommend selecting any of the following genres/categories for your agency's next app product. The popularity and review engagement will provide your agency with the best possible foundation for success when you need to configure and generate ad revenue.\n",
    "\n",
    "Additionally, I recommend setting up a *Voice of the Customer* program that employs a closed-loop process. A VoC program will better position your agency to identify problems and opportunities so they can take the appropriate next steps. [Further reading](https://monkeylearn.com/blog/voice-of-customer-analysis/).\n",
    "\n",
    "### Avg Installs\n",
    "- Communication 38322626\n",
    "- Adventure;Action & Adventure 35333333\n",
    "- Video Players & Editors 24790074\n",
    "- Social 23253652\n",
    "- Arcade 22888365\n",
    "- Casual 19569222\n",
    "- Puzzle;Action & Adventure 18366667\n",
    "- Photography 17772019\n",
    "- Educational;Action & Adventure 17016667\n",
    "- Productivity 16738958\n",
    "\n",
    "### Avg Reviews\n",
    "- Navigation : 86090\n",
    "- Reference : 79350\n",
    "- Social Networking : 72917\n",
    "- Music : 58205\n",
    "- Weather : 52280\n",
    "- Book : 46385\n",
    "- Food & Drink : 33334\n",
    "- Finance : 32367\n",
    "- Travel : 30524\n",
    "- Photo & Video : 28619"
   ]
  },
  {
   "cell_type": "code",
   "execution_count": null,
   "metadata": {},
   "outputs": [],
   "source": []
  }
 ],
 "metadata": {
  "kernelspec": {
   "display_name": "Python 3",
   "language": "python",
   "name": "python3"
  },
  "language_info": {
   "codemirror_mode": {
    "name": "ipython",
    "version": 3
   },
   "file_extension": ".py",
   "mimetype": "text/x-python",
   "name": "python",
   "nbconvert_exporter": "python",
   "pygments_lexer": "ipython3",
   "version": "3.8.2"
  }
 },
 "nbformat": 4,
 "nbformat_minor": 2
}
