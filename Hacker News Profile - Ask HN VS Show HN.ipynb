{
 "cells": [
  {
   "cell_type": "markdown",
   "metadata": {
    "collapsed": true
   },
   "source": [
    "# Hacker News Profile - Ask HN VS Show HN\n",
    "\n",
    "Hacker News (HN) is a site started by the startup incubator Y Combinator, where user-submitted stories (known as \"posts\") receive votes and comments, similar to reddit. HN is extremely popular in technology and startup circles, and posts that make it to the top of the Hacker News listings can garner hundreds of thousands of visitors as a result.\n",
    "\n",
    "As an avid reader of Hacker News, I wanted to analyze posts with titles **Ask HN** & **Show HN** to better understand engagement on this platform, which continues to be a thought catalyst with considerable influence in the tech sector writ large.\n",
    "\n",
    "#### Users submit Ask HN posts to ask the Hacker News community a specific question. Below are a few examples:\n",
    "\n",
    "- Ask HN: How to improve my personal website?\n",
    "- Ask HN: Am I the only one outraged by Twitter shutting down share counts?\n",
    "- Ask HN: Aby recent changes to CSS that broke mobile?\n",
    "\n",
    "#### Users submit Show HN posts to show the Hacker News community a project, product, or just something interesting. Below are a few examples:\n",
    "\n",
    "- Show HN: Wio Link  ESP8266 Based Web of Things Hardware Development Platform'\n",
    "- Show HN: Something pointless I made\n",
    "- Show HN: Shanhu.io, a programming playground powered by e8vm\n",
    "\n",
    "### Objective\n",
    "\n",
    "I'll compare these two types of posts to determine the following:\n",
    "\n",
    "1. Do Ask HN or Show HN receive more comments on average?\n",
    "2. Do posts created at a certain time receive more comments on average?\n",
    "\n",
    "---"
   ]
  },
  {
   "cell_type": "markdown",
   "metadata": {},
   "source": [
    "## Dataset\n",
    "\n",
    "The dataset used can be found on [Kaggle](https://www.kaggle.com/datasets/hacker-news/hacker-news-posts). The origial set has ~269K entries but I will be using a truncated version of ~20K entries to save on compute time.\n",
    "\n",
    "**Descriptions of the columns**:\n",
    "\n",
    "- `id`: the unique identifier from Hacker News for the post\n",
    "- `title`: the title of the post\n",
    "- `url`: the URL that the posts links to, if the post has a URL\n",
    "- `num_points`: the number of points the post acquired, calculated as the total number of upvotes minus the total number of downvotes\n",
    "- `num_comments`: the number of comments on the post\n",
    "- `author`: the username of the person who submitted the post\n",
    "- `created_at`: the date and time of the post's submission\n",
    "\n",
    "---\n",
    "\n",
    "### Import libraries needed for reading the dataset"
   ]
  },
  {
   "cell_type": "code",
   "execution_count": 25,
   "metadata": {},
   "outputs": [],
   "source": [
    "from csv import reader\n",
    "\n",
    "opened_file = open('hacker_news.csv')\n",
    "read_file = reader(opened_file)\n",
    "\n",
    "hn_data = list(read_file)\n",
    "\n",
    "'''\n",
    "Data Columns\n",
    "\n",
    "['id', 'title', 'url', 'num_points',\n",
    "'num_comments', 'author', 'created_at']\n",
    "\n",
    "'''\n",
    "headers = hn_data[0]\n",
    "\n",
    "\n",
    "hn = hn_data[1:]"
   ]
  },
  {
   "cell_type": "markdown",
   "metadata": {},
   "source": [
    "## Extracting Ask HN and Show HN Posts"
   ]
  },
  {
   "cell_type": "code",
   "execution_count": 26,
   "metadata": {},
   "outputs": [
    {
     "name": "stdout",
     "output_type": "stream",
     "text": [
      "Ask posts: 1742\n",
      "Show posts: 1161\n",
      "Other posts: 17197\n"
     ]
    }
   ],
   "source": [
    "ask_posts = []\n",
    "show_posts = []\n",
    "other_posts = []\n",
    "\n",
    "for row in hn:\n",
    "    title = row[1]\n",
    "    \n",
    "    if title.startswith('Ask HN'):\n",
    "        ask_posts.append(row)\n",
    "    elif title.startswith('Show HN'):\n",
    "        show_posts.append(row)\n",
    "    else:\n",
    "        other_posts.append(row)\n",
    "\n",
    "print('Ask posts:', len(ask_posts))\n",
    "print('Show posts:', len(show_posts))\n",
    "print('Other posts:', len(other_posts))"
   ]
  },
  {
   "cell_type": "markdown",
   "metadata": {},
   "source": [
    "## Determine if Ask posts or Show posts receive more comments on average"
   ]
  },
  {
   "cell_type": "code",
   "execution_count": 27,
   "metadata": {},
   "outputs": [
    {
     "name": "stdout",
     "output_type": "stream",
     "text": [
      "{'Ask': 14.04, 'Show': 10.32}\n"
     ]
    }
   ],
   "source": [
    "total_ask_posts = len(ask_posts)\n",
    "total_show_posts = len(show_posts)\n",
    "comment_freq = {'Ask': 0, 'Show': 0}\n",
    "\n",
    "for row in ask_posts:\n",
    "    comments = int(row[4])\n",
    "    comment_freq['Ask'] += comments\n",
    "\n",
    "for row in show_posts:\n",
    "    comments = int(row[4])\n",
    "    comment_freq['Show'] += comments\n",
    "    \n",
    "comment_freq['Ask'] = round(comment_freq['Ask'] / total_ask_posts, 2)\n",
    "comment_freq['Show'] = round(comment_freq['Show'] / total_show_posts, 2)\n",
    "\n",
    "print(comment_freq)"
   ]
  },
  {
   "cell_type": "markdown",
   "metadata": {},
   "source": [
    "### Ask posts tend to receive more comments on average than Show posts\n",
    "\n",
    "- **Ask**: 14.04 avg comments\n",
    "- **Show**: 10.32 avg comments\n",
    "\n",
    "It would make sense that HN posts where the premise of asking the community about a problem would generate more conversation. Leaving room for debate and differing opinion on the correct answer also increases engagement.\n",
    "\n",
    "---\n",
    "\n",
    "## Finding the Number of Ask Posts and Comments by Hour Created"
   ]
  },
  {
   "cell_type": "code",
   "execution_count": 56,
   "metadata": {},
   "outputs": [
    {
     "name": "stdout",
     "output_type": "stream",
     "text": [
      "15 Avg comments: 39\n",
      "2 Avg comments: 24\n",
      "20 Avg comments: 22\n",
      "16 Avg comments: 17\n",
      "21 Avg comments: 16\n",
      "13 Avg comments: 15\n",
      "18 Avg comments: 13\n",
      "14 Avg comments: 13\n",
      "10 Avg comments: 13\n",
      "19 Avg comments: 11\n",
      "17 Avg comments: 11\n",
      "11 Avg comments: 11\n",
      "1 Avg comments: 11\n",
      "8 Avg comments: 10\n",
      "5 Avg comments: 10\n",
      "12 Avg comments: 9\n",
      "6 Avg comments: 9\n",
      "23 Avg comments: 8\n",
      "7 Avg comments: 8\n",
      "3 Avg comments: 8\n",
      "0 Avg comments: 8\n",
      "22 Avg comments: 7\n",
      "4 Avg comments: 7\n",
      "9 Avg comments: 6\n"
     ]
    }
   ],
   "source": [
    "import datetime as dt\n",
    "\n",
    "result_list = list()\n",
    "\n",
    "for row in ask_posts:\n",
    "    created_date = row[6]\n",
    "    comments = int(row[4])\n",
    "    \n",
    "    date = dt.datetime.strptime(created_date, '%m/%d/%Y %H:%M')\n",
    "    result_list.append([date, comments])\n",
    "\n",
    "# track counts by hour and comments by hour\n",
    "counts_by_hour = dict()\n",
    "comments_by_hour = dict()\n",
    "    \n",
    "for pair in result_list:\n",
    "    date, comments = pair\n",
    "    \n",
    "    if date.hour not in counts_by_hour:\n",
    "        counts_by_hour[date.hour] = 1\n",
    "        comments_by_hour[date.hour] = comments\n",
    "    else:\n",
    "        counts_by_hour[date.hour] += 1\n",
    "        comments_by_hour[date.hour] += comments\n",
    "\n",
    "# print(counts_by_hour)\n",
    "# print(comments_by_hour)\n",
    "\n",
    "# return a list of lists that will hold the hour of the day followed\n",
    "# by the average number of comments in that hour\n",
    "\n",
    "avg_by_hour = list()\n",
    "\n",
    "for hour in counts_by_hour.keys():\n",
    "    total_comments = comments_by_hour[hour]\n",
    "    hour_count_total = counts_by_hour[hour]\n",
    "    \n",
    "    avg_by_hour.append([round(total_comments / hour_count_total), hour])\n",
    "\n",
    "\n",
    "for hour_comment in reversed(sorted(avg_by_hour)):\n",
    "    print(hour_comment[1], 'Avg comments:', hour_comment[0])"
   ]
  },
  {
   "cell_type": "markdown",
   "metadata": {},
   "source": [
    "### Best time of day to post 'Ask HN'\n",
    "\n",
    "#### 🥇 3PM  -- Avg comments: 39\n",
    "#### 🥈 2AM  -- Avg comments: 24\n",
    "#### 🥉 8PM  -- Avg comments: 22\n",
    "---\n",
    "- 4PM -- Avg comments: 17\n",
    "- 9PM -- Avg comments: 16\n",
    "- 1PM -- Avg comments: 15\n",
    "- 6PM -- Avg comments: 13\n",
    "- 2PM -- Avg comments: 13\n",
    "- 10AM -- Avg comments: 13\n",
    "- 7PM -- Avg comments: 11\n",
    "- 5PM -- Avg comments: 11\n",
    "- 11AM -- Avg comments: 11\n",
    "- 1AM -- Avg comments: 11\n",
    "- 8AM -- Avg comments: 10\n",
    "- 5AM -- Avg comments: 10\n",
    "---\n",
    "\n",
    "## Analysis\n",
    "\n",
    "For the highest probability of post engagement on *Hacker News*, you should aim to post at **3pm**, **2am**, or **8pm**.\n",
    "\n",
    "Another added benefit is you have two time slots in **4pm** and **9pm**  that will also yield decent engagement results should you miss the top 3 time windows."
   ]
  }
 ],
 "metadata": {
  "kernelspec": {
   "display_name": "Python 3",
   "language": "python",
   "name": "python3"
  },
  "language_info": {
   "codemirror_mode": {
    "name": "ipython",
    "version": 3
   },
   "file_extension": ".py",
   "mimetype": "text/x-python",
   "name": "python",
   "nbconvert_exporter": "python",
   "pygments_lexer": "ipython3",
   "version": "3.8.2"
  }
 },
 "nbformat": 4,
 "nbformat_minor": 2
}
